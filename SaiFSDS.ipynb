{
 "cells": [
  {
   "cell_type": "code",
   "execution_count": 1,
   "id": "42e9c85e-3128-4b16-87ee-3ef387034c2b",
   "metadata": {},
   "outputs": [
    {
     "data": {
      "text/plain": [
       "'Sai Krishna Lalitha Devi amma'"
      ]
     },
     "execution_count": 1,
     "metadata": {},
     "output_type": "execute_result"
    }
   ],
   "source": [
    "\"Sai Krishna Lalitha Devi amma\""
   ]
  },
  {
   "cell_type": "code",
   "execution_count": 2,
   "id": "40d79a68-ab1e-4f0b-8296-6c790f86efbf",
   "metadata": {},
   "outputs": [
    {
     "data": {
      "text/plain": [
       "18"
      ]
     },
     "execution_count": 2,
     "metadata": {},
     "output_type": "execute_result"
    }
   ],
   "source": [
    "9 + 9"
   ]
  },
  {
   "cell_type": "code",
   "execution_count": 3,
   "id": "8ab9ad5d-c339-43f7-9ee9-77f476e75588",
   "metadata": {},
   "outputs": [
    {
     "data": {
      "text/plain": [
       "-12"
      ]
     },
     "execution_count": 3,
     "metadata": {},
     "output_type": "execute_result"
    }
   ],
   "source": [
    "(9 + 9) - 10 * 3"
   ]
  },
  {
   "cell_type": "code",
   "execution_count": null,
   "id": "1c29527e-f0e0-44d4-84bc-72885fbc2637",
   "metadata": {},
   "outputs": [],
   "source": [
    "x = 5\n",
    "x"
   ]
  },
  {
   "cell_type": "code",
   "execution_count": null,
   "id": "769b9ae1-72ba-4d03-90aa-c31943dfcfee",
   "metadata": {},
   "outputs": [],
   "source": [
    "x += 2\n",
    "x"
   ]
  },
  {
   "cell_type": "code",
   "execution_count": null,
   "id": "eabd19dc-c37f-4e92-a332-26be0991c5bb",
   "metadata": {},
   "outputs": [],
   "source": [
    "x"
   ]
  },
  {
   "cell_type": "code",
   "execution_count": null,
   "id": "b99a8c95-0fef-4eb1-a8e1-f0b697c1dbbe",
   "metadata": {},
   "outputs": [],
   "source": [
    "x += 2\n",
    "x"
   ]
  },
  {
   "cell_type": "code",
   "execution_count": 1,
   "id": "0c8c1e15-95c5-4ae9-89c6-28c06dc643ed",
   "metadata": {},
   "outputs": [
    {
     "data": {
      "text/plain": [
       "'Sairam Krishna'"
      ]
     },
     "execution_count": 1,
     "metadata": {},
     "output_type": "execute_result"
    }
   ],
   "source": [
    "s = \"Sairam Krishna\"\n",
    "s"
   ]
  },
  {
   "cell_type": "code",
   "execution_count": 2,
   "id": "27237ad4-a015-408c-85f2-f4fea0d0028c",
   "metadata": {},
   "outputs": [
    {
     "data": {
      "text/plain": [
       "14"
      ]
     },
     "execution_count": 2,
     "metadata": {},
     "output_type": "execute_result"
    }
   ],
   "source": [
    "len(s)"
   ]
  },
  {
   "cell_type": "code",
   "execution_count": 4,
   "id": "5979047e-a901-4fcd-8aa4-7f6634815a3a",
   "metadata": {},
   "outputs": [
    {
     "data": {
      "text/plain": [
       "'anhsirK mariaS'"
      ]
     },
     "execution_count": 4,
     "metadata": {},
     "output_type": "execute_result"
    }
   ],
   "source": [
    "s[::-1] #Print string in reverse order"
   ]
  },
  {
   "cell_type": "code",
   "execution_count": 5,
   "id": "67acedf0-9e17-4ffb-9aa4-1ff3bfddb13a",
   "metadata": {},
   "outputs": [
    {
     "data": {
      "text/plain": [
       "'Saira'"
      ]
     },
     "execution_count": 5,
     "metadata": {},
     "output_type": "execute_result"
    }
   ],
   "source": [
    "s[:5] #Prints from 0 char till n-1.. 4"
   ]
  },
  {
   "cell_type": "code",
   "execution_count": null,
   "id": "7c17bbe5-3525-4a8e-9591-c16e136c2927",
   "metadata": {},
   "outputs": [],
   "source": []
  }
 ],
 "metadata": {
  "kernelspec": {
   "display_name": "Python 3 (ipykernel)",
   "language": "python",
   "name": "python3"
  },
  "language_info": {
   "codemirror_mode": {
    "name": "ipython",
    "version": 3
   },
   "file_extension": ".py",
   "mimetype": "text/x-python",
   "name": "python",
   "nbconvert_exporter": "python",
   "pygments_lexer": "ipython3",
   "version": "3.12.7"
  }
 },
 "nbformat": 4,
 "nbformat_minor": 5
}
